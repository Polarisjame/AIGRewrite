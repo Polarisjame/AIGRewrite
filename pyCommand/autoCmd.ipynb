{
 "cells": [
  {
   "cell_type": "code",
   "execution_count": 2,
   "metadata": {},
   "outputs": [],
   "source": [
    "import os\n",
    "import shutil\n"
   ]
  },
  {
   "cell_type": "code",
   "execution_count": 3,
   "metadata": {},
   "outputs": [],
   "source": [
    "novelPath = os.path.join('./','cbuild',) #novelRewrite\n",
    "abcPath = os.path.join('./','abc') #ABCRewrite"
   ]
  },
  {
   "cell_type": "code",
   "execution_count": 4,
   "metadata": {},
   "outputs": [
    {
     "name": "stdout",
     "output_type": "stream",
     "text": [
      "adder.aig\n",
      "bar.aig\n",
      "div.aig\n",
      "hyp.aig\n",
      "log2.aig\n",
      "max.aig\n",
      "multiplier.aig\n",
      "sin.aig\n",
      "sqrt.aig\n",
      "square.aig\n",
      "arbiter.aig\n",
      "cavlc.aig\n",
      "ctrl.aig\n",
      "dec.aig\n",
      "i2c.aig\n",
      "int2float.aig\n",
      "mem_ctrl.aig\n",
      "priority.aig\n",
      "router.aig\n",
      "voter.aig\n"
     ]
    }
   ],
   "source": [
    "os.chdir(novelPath)\n",
    "dataPath = os.path.join('../','data')\n",
    "# traverse each aig file\n",
    "for dirs in os.listdir(dataPath):\n",
    "    targetPath = os.path.join(dataPath,'rw'+dirs)\n",
    "    if not os.path.exists(targetPath):\n",
    "        os.mkdir(targetPath)\n",
    "    for file in os.listdir(os.path.join(dataPath,dirs)):\n",
    "        # print(file)\n",
    "        # ./gpuls -c \"read ../abc/i10.aig; resyn2; write i10_resyn2.aig\"\n",
    "        filePath = os.path.join(dataPath,dirs,file)\n",
    "        print(\"./gpuls -c \\\"read \"+filePath+\"; rw; write i10_resyn2.aig\\\"\")\n",
    "        # os.system(\"./gpuls -c \\\"read \"+filePath+\"; rw; write i10_resyn2.aig\\\"\")\n",
    "# os.system."
   ]
  },
  {
   "cell_type": "code",
   "execution_count": null,
   "metadata": {},
   "outputs": [],
   "source": [
    "novelPath"
   ]
  },
  {
   "cell_type": "code",
   "execution_count": null,
   "metadata": {},
   "outputs": [],
   "source": []
  }
 ],
 "metadata": {
  "kernelspec": {
   "display_name": "zlf",
   "language": "python",
   "name": "python3"
  },
  "language_info": {
   "codemirror_mode": {
    "name": "ipython",
    "version": 3
   },
   "file_extension": ".py",
   "mimetype": "text/x-python",
   "name": "python",
   "nbconvert_exporter": "python",
   "pygments_lexer": "ipython3",
   "version": "3.8.18"
  }
 },
 "nbformat": 4,
 "nbformat_minor": 2
}
